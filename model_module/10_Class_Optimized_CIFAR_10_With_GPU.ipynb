{
  "cells": [
    {
      "cell_type": "markdown",
      "metadata": {
        "id": "9yCQyV_xMFM8"
      },
      "source": [
        "# Doodle recognizer\n",
        "\n",
        "Training of a neuronal network for classifying basic drawings using convolutional neuronal networks"
      ]
    },
    {
      "cell_type": "markdown",
      "source": [
        "In this notebook two networks are trained:\n",
        "\n",
        "* A basic neuronal network with two classes\n",
        "* A convolutional network involving 10 classes\n",
        "\n",
        "Then, a comparison between the two nets is presented.\n",
        "\n",
        "Training data was taken from a dataset with about 50 million of drawings divided in 345 different categories made by people around the world who played **Quickdraw!**, a game where they have to draw a word with limited time.\n",
        "\n",
        "The metric chosen for this problem is the accuracy because we are working with multiple clases which have a balanced amount of observations."
      ],
      "metadata": {
        "id": "jFfxxef1TgLN"
      }
    },
    {
      "cell_type": "markdown",
      "metadata": {
        "id": "zB2Lk0VpqeAA"
      },
      "source": [
        "# Imports"
      ]
    },
    {
      "cell_type": "code",
      "execution_count": null,
      "metadata": {
        "id": "6bmdNNMLWr1a",
        "colab": {
          "base_uri": "https://localhost:8080/"
        },
        "outputId": "fd537ff0-5bbe-470d-a260-f1d87763d77e"
      },
      "outputs": [
        {
          "output_type": "stream",
          "name": "stdout",
          "text": [
            "Looking in indexes: https://pypi.org/simple, https://us-python.pkg.dev/colab-wheels/public/simple/\n",
            "Collecting torchmetrics\n",
            "  Downloading torchmetrics-0.11.4-py3-none-any.whl (519 kB)\n",
            "\u001b[2K     \u001b[90m━━━━━━━━━━━━━━━━━━━━━━━━━━━━━━━━━━━━━━\u001b[0m \u001b[32m519.2/519.2 kB\u001b[0m \u001b[31m40.7 MB/s\u001b[0m eta \u001b[36m0:00:00\u001b[0m\n",
            "\u001b[?25hRequirement already satisfied: numpy>=1.17.2 in /usr/local/lib/python3.10/dist-packages (from torchmetrics) (1.22.4)\n",
            "Requirement already satisfied: torch>=1.8.1 in /usr/local/lib/python3.10/dist-packages (from torchmetrics) (2.0.1+cu118)\n",
            "Requirement already satisfied: packaging in /usr/local/lib/python3.10/dist-packages (from torchmetrics) (23.1)\n",
            "Requirement already satisfied: filelock in /usr/local/lib/python3.10/dist-packages (from torch>=1.8.1->torchmetrics) (3.12.0)\n",
            "Requirement already satisfied: typing-extensions in /usr/local/lib/python3.10/dist-packages (from torch>=1.8.1->torchmetrics) (4.5.0)\n",
            "Requirement already satisfied: sympy in /usr/local/lib/python3.10/dist-packages (from torch>=1.8.1->torchmetrics) (1.11.1)\n",
            "Requirement already satisfied: networkx in /usr/local/lib/python3.10/dist-packages (from torch>=1.8.1->torchmetrics) (3.1)\n",
            "Requirement already satisfied: jinja2 in /usr/local/lib/python3.10/dist-packages (from torch>=1.8.1->torchmetrics) (3.1.2)\n",
            "Requirement already satisfied: triton==2.0.0 in /usr/local/lib/python3.10/dist-packages (from torch>=1.8.1->torchmetrics) (2.0.0)\n",
            "Requirement already satisfied: cmake in /usr/local/lib/python3.10/dist-packages (from triton==2.0.0->torch>=1.8.1->torchmetrics) (3.25.2)\n",
            "Requirement already satisfied: lit in /usr/local/lib/python3.10/dist-packages (from triton==2.0.0->torch>=1.8.1->torchmetrics) (16.0.5)\n",
            "Requirement already satisfied: MarkupSafe>=2.0 in /usr/local/lib/python3.10/dist-packages (from jinja2->torch>=1.8.1->torchmetrics) (2.1.2)\n",
            "Requirement already satisfied: mpmath>=0.19 in /usr/local/lib/python3.10/dist-packages (from sympy->torch>=1.8.1->torchmetrics) (1.3.0)\n",
            "Installing collected packages: torchmetrics\n",
            "Successfully installed torchmetrics-0.11.4\n"
          ]
        }
      ],
      "source": [
        "!pip install torchmetrics"
      ]
    },
    {
      "cell_type": "code",
      "execution_count": null,
      "metadata": {
        "id": "807-mdQsqcmd"
      },
      "outputs": [],
      "source": [
        "import numpy as np\n",
        "import pandas as pd\n",
        "import matplotlib.pyplot as plt\n",
        "\n",
        "from sklearn.model_selection import train_test_split\n",
        "from sklearn.preprocessing import StandardScaler\n",
        "from sklearn.metrics import ConfusionMatrixDisplay\n",
        "from sklearn.metrics import confusion_matrix\n",
        "\n",
        "from torchmetrics import F1Score, ConfusionMatrix\n",
        "\n",
        "import torch\n",
        "import torch.nn as nn\n",
        "import torch.nn.functional as F\n",
        "import torch.utils.data \n",
        "from torch.utils.data import DataLoader\n",
        "from torch.utils.data import TensorDataset\n",
        "\n",
        "from random import randint"
      ]
    },
    {
      "cell_type": "code",
      "execution_count": null,
      "metadata": {
        "id": "UQQ_Jv8w49xM"
      },
      "outputs": [],
      "source": [
        "device = torch.device(\"cuda\") if torch.cuda.is_available() else torch.device(\"cpu\")\n",
        "print(\"Device\", device)"
      ]
    },
    {
      "cell_type": "markdown",
      "metadata": {
        "id": "fBxejrfL8sbK"
      },
      "source": [
        "# Download the data to be used\n"
      ]
    },
    {
      "cell_type": "code",
      "execution_count": null,
      "metadata": {
        "id": "VqsgL20zMKm1",
        "colab": {
          "base_uri": "https://localhost:8080/"
        },
        "outputId": "a2f64ac2-5a1e-4fad-ca3d-7834e41e1b55"
      },
      "outputs": [
        {
          "output_type": "stream",
          "name": "stdout",
          "text": [
            "--2023-05-22 21:16:24--  https://storage.googleapis.com/quickdraw_dataset/full/numpy_bitmap/cookie.npy\n",
            "Resolving storage.googleapis.com (storage.googleapis.com)... 142.250.4.128, 142.251.12.128, 172.217.194.128, ...\n",
            "Connecting to storage.googleapis.com (storage.googleapis.com)|142.250.4.128|:443... connected.\n",
            "HTTP request sent, awaiting response... 200 OK\n",
            "Length: 102980832 (98M) [application/octet-stream]\n",
            "Saving to: ‘cookie.npy’\n",
            "\n",
            "cookie.npy          100%[===================>]  98.21M  19.9MB/s    in 6.1s    \n",
            "\n",
            "2023-05-22 21:16:30 (16.2 MB/s) - ‘cookie.npy’ saved [102980832/102980832]\n",
            "\n",
            "--2023-05-22 21:16:30--  https://storage.googleapis.com/quickdraw_dataset/full/numpy_bitmap/clock.npy\n",
            "Resolving storage.googleapis.com (storage.googleapis.com)... 142.250.4.128, 142.251.12.128, 172.217.194.128, ...\n",
            "Connecting to storage.googleapis.com (storage.googleapis.com)|142.250.4.128|:443... connected.\n",
            "HTTP request sent, awaiting response... 200 OK\n",
            "Length: 94500304 (90M) [application/octet-stream]\n",
            "Saving to: ‘clock.npy’\n",
            "\n",
            "clock.npy           100%[===================>]  90.12M  23.1MB/s    in 4.8s    \n",
            "\n",
            "2023-05-22 21:16:36 (18.8 MB/s) - ‘clock.npy’ saved [94500304/94500304]\n",
            "\n",
            "--2023-05-22 21:16:36--  https://storage.googleapis.com/quickdraw_dataset/full/numpy_bitmap/boomerang.npy\n",
            "Resolving storage.googleapis.com (storage.googleapis.com)... 142.250.4.128, 142.251.12.128, 172.217.194.128, ...\n",
            "Connecting to storage.googleapis.com (storage.googleapis.com)|142.250.4.128|:443... connected.\n",
            "HTTP request sent, awaiting response... 200 OK\n",
            "Length: 111862768 (107M) [application/octet-stream]\n",
            "Saving to: ‘boomerang.npy’\n",
            "\n",
            "boomerang.npy       100%[===================>] 106.68M  23.8MB/s    in 5.3s    \n",
            "\n",
            "2023-05-22 21:16:41 (20.1 MB/s) - ‘boomerang.npy’ saved [111862768/111862768]\n",
            "\n",
            "--2023-05-22 21:16:41--  https://storage.googleapis.com/quickdraw_dataset/full/numpy_bitmap/airplane.npy\n",
            "Resolving storage.googleapis.com (storage.googleapis.com)... 142.250.4.128, 142.251.12.128, 172.217.194.128, ...\n",
            "Connecting to storage.googleapis.com (storage.googleapis.com)|142.250.4.128|:443... connected.\n",
            "HTTP request sent, awaiting response... 200 OK\n",
            "Length: 118872512 (113M) [application/octet-stream]\n",
            "Saving to: ‘airplane.npy’\n",
            "\n",
            "airplane.npy        100%[===================>] 113.37M  22.6MB/s    in 5.8s    \n",
            "\n",
            "2023-05-22 21:16:48 (19.5 MB/s) - ‘airplane.npy’ saved [118872512/118872512]\n",
            "\n",
            "--2023-05-22 21:16:48--  https://storage.googleapis.com/quickdraw_dataset/full/numpy_bitmap/snail.npy\n",
            "Resolving storage.googleapis.com (storage.googleapis.com)... 142.250.4.128, 142.251.12.128, 172.217.194.128, ...\n",
            "Connecting to storage.googleapis.com (storage.googleapis.com)|142.250.4.128|:443... connected.\n",
            "HTTP request sent, awaiting response... 200 OK\n",
            "Length: 104865568 (100M) [application/octet-stream]\n",
            "Saving to: ‘snail.npy’\n",
            "\n",
            "snail.npy           100%[===================>] 100.01M  23.3MB/s    in 5.2s    \n",
            "\n",
            "2023-05-22 21:16:54 (19.3 MB/s) - ‘snail.npy’ saved [104865568/104865568]\n",
            "\n",
            "--2023-05-22 21:16:54--  https://storage.googleapis.com/quickdraw_dataset/full/numpy_bitmap/parachute.npy\n",
            "Resolving storage.googleapis.com (storage.googleapis.com)... 74.125.24.128, 142.251.10.128, 142.251.12.128, ...\n",
            "Connecting to storage.googleapis.com (storage.googleapis.com)|74.125.24.128|:443... connected.\n",
            "HTTP request sent, awaiting response... 200 OK\n",
            "Length: 99818176 (95M) [application/octet-stream]\n",
            "Saving to: ‘parachute.npy’\n",
            "\n",
            "parachute.npy       100%[===================>]  95.19M  23.4MB/s    in 5.0s    \n",
            "\n",
            "2023-05-22 21:16:59 (19.2 MB/s) - ‘parachute.npy’ saved [99818176/99818176]\n",
            "\n",
            "--2023-05-22 21:16:59--  https://storage.googleapis.com/quickdraw_dataset/full/numpy_bitmap/tree.npy\n",
            "Resolving storage.googleapis.com (storage.googleapis.com)... 74.125.24.128, 142.251.10.128, 142.251.12.128, ...\n",
            "Connecting to storage.googleapis.com (storage.googleapis.com)|74.125.24.128|:443... connected.\n",
            "HTTP request sent, awaiting response... 200 OK\n",
            "Length: 113461344 (108M) [application/octet-stream]\n",
            "Saving to: ‘tree.npy’\n",
            "\n",
            "tree.npy            100%[===================>] 108.21M  22.1MB/s    in 6.0s    \n",
            "\n",
            "2023-05-22 21:17:06 (18.0 MB/s) - ‘tree.npy’ saved [113461344/113461344]\n",
            "\n",
            "--2023-05-22 21:17:06--  https://storage.googleapis.com/quickdraw_dataset/full/numpy_bitmap/fish.npy\n",
            "Resolving storage.googleapis.com (storage.googleapis.com)... 74.125.24.128, 142.251.10.128, 142.251.12.128, ...\n",
            "Connecting to storage.googleapis.com (storage.googleapis.com)|74.125.24.128|:443... connected.\n",
            "HTTP request sent, awaiting response... 200 OK\n",
            "Length: 105173680 (100M) [application/octet-stream]\n",
            "Saving to: ‘fish.npy’\n",
            "\n",
            "fish.npy            100%[===================>] 100.30M  22.7MB/s    in 5.3s    \n",
            "\n",
            "2023-05-22 21:17:11 (19.0 MB/s) - ‘fish.npy’ saved [105173680/105173680]\n",
            "\n",
            "--2023-05-22 21:17:11--  https://storage.googleapis.com/quickdraw_dataset/full/numpy_bitmap/diamond.npy\n",
            "Resolving storage.googleapis.com (storage.googleapis.com)... 74.125.24.128, 142.251.10.128, 142.251.12.128, ...\n",
            "Connecting to storage.googleapis.com (storage.googleapis.com)|74.125.24.128|:443... connected.\n",
            "HTTP request sent, awaiting response... 200 OK\n",
            "Length: 103164288 (98M) [application/octet-stream]\n",
            "Saving to: ‘diamond.npy’\n",
            "\n",
            "diamond.npy         100%[===================>]  98.38M  21.9MB/s    in 5.4s    \n",
            "\n",
            "2023-05-22 21:17:17 (18.1 MB/s) - ‘diamond.npy’ saved [103164288/103164288]\n",
            "\n",
            "--2023-05-22 21:17:17--  https://storage.googleapis.com/quickdraw_dataset/full/numpy_bitmap/helicopter.npy\n",
            "Resolving storage.googleapis.com (storage.googleapis.com)... 74.125.24.128, 142.251.10.128, 142.251.12.128, ...\n",
            "Connecting to storage.googleapis.com (storage.googleapis.com)|74.125.24.128|:443... connected.\n",
            "HTTP request sent, awaiting response... 200 OK\n",
            "Length: 125391472 (120M) [application/octet-stream]\n",
            "Saving to: ‘helicopter.npy’\n",
            "\n",
            "helicopter.npy      100%[===================>] 119.58M  23.5MB/s    in 6.0s    \n",
            "\n",
            "2023-05-22 21:17:24 (20.0 MB/s) - ‘helicopter.npy’ saved [125391472/125391472]\n",
            "\n",
            "--2023-05-22 21:17:24--  https://storage.googleapis.com/quickdraw_dataset/full/numpy_bitmap/t-shirt.npy\n",
            "Resolving storage.googleapis.com (storage.googleapis.com)... 142.250.4.128, 142.251.10.128, 142.251.12.128, ...\n",
            "Connecting to storage.googleapis.com (storage.googleapis.com)|142.250.4.128|:443... connected.\n",
            "HTTP request sent, awaiting response... 200 OK\n",
            "Length: 98182752 (94M) [application/octet-stream]\n",
            "Saving to: ‘t-shirt.npy’\n",
            "\n",
            "t-shirt.npy         100%[===================>]  93.63M  23.1MB/s    in 4.9s    \n",
            "\n",
            "2023-05-22 21:17:29 (19.0 MB/s) - ‘t-shirt.npy’ saved [98182752/98182752]\n",
            "\n"
          ]
        }
      ],
      "source": [
        "!wget https://storage.googleapis.com/quickdraw_dataset/full/numpy_bitmap/cookie.npy\n",
        "!wget https://storage.googleapis.com/quickdraw_dataset/full/numpy_bitmap/clock.npy\n",
        "!wget https://storage.googleapis.com/quickdraw_dataset/full/numpy_bitmap/boomerang.npy\n",
        "!wget https://storage.googleapis.com/quickdraw_dataset/full/numpy_bitmap/airplane.npy\n",
        "!wget https://storage.googleapis.com/quickdraw_dataset/full/numpy_bitmap/snail.npy\n",
        "!wget https://storage.googleapis.com/quickdraw_dataset/full/numpy_bitmap/parachute.npy\n",
        "!wget https://storage.googleapis.com/quickdraw_dataset/full/numpy_bitmap/tree.npy\n",
        "!wget https://storage.googleapis.com/quickdraw_dataset/full/numpy_bitmap/fish.npy\n",
        "!wget https://storage.googleapis.com/quickdraw_dataset/full/numpy_bitmap/diamond.npy\n",
        "!wget https://storage.googleapis.com/quickdraw_dataset/full/numpy_bitmap/helicopter.npy\n",
        "!wget https://storage.googleapis.com/quickdraw_dataset/full/numpy_bitmap/t-shirt.npy"
      ]
    },
    {
      "cell_type": "markdown",
      "source": [
        "Due to RAM utilization, all the notebook can't be run at once, if you want the preeliminary results then you must only run the first section, if you want the final model then you must run only the last section"
      ],
      "metadata": {
        "id": "ZTn5gCT1VtWw"
      }
    },
    {
      "cell_type": "markdown",
      "source": [
        "# Conventional neuronal network\n",
        "\n",
        "This model is going to serve as a reference point for further work"
      ],
      "metadata": {
        "id": "ffLq2ORFUhtg"
      }
    },
    {
      "cell_type": "code",
      "source": [
        "cookies = np.load(\"cookie.npy\")\n",
        "boomerangs = np.load(\"boomerang.npy\")\n",
        "\n",
        "categories = [cookies, boomerangs]\n",
        "str_categories = [\"cookies\", \"boomerangs\"]"
      ],
      "metadata": {
        "id": "_rfr-nRMVWJw"
      },
      "execution_count": null,
      "outputs": []
    },
    {
      "cell_type": "markdown",
      "source": [
        "Combining all categories in one"
      ],
      "metadata": {
        "id": "RNKM_3DhWKlq"
      }
    },
    {
      "cell_type": "code",
      "source": [
        "X = np.zeros((1, 784))\n",
        "y = np.zeros((1, 1))\n",
        "\n",
        "for i, cat in enumerate(categories):\n",
        "  X = np.vstack((X, cat))\n",
        "  y = np.vstack((y, i*np.ones((cat.shape[0], 1))))\n",
        "\n",
        "X = X[1:, :]\n",
        "y = y[1:, :]"
      ],
      "metadata": {
        "id": "dOqud5nkVgLV"
      },
      "execution_count": null,
      "outputs": []
    },
    {
      "cell_type": "markdown",
      "source": [
        "Function to visualize one of the images in the dataset"
      ],
      "metadata": {
        "id": "k4E1RuuXWW-5"
      }
    },
    {
      "cell_type": "code",
      "source": [
        "def show_image(data:np.ndarray, index:int) -> None:\n",
        "  img = data[index, :]\n",
        "  img = img.reshape(28, 28)\n",
        "  plt.matshow(img, cmap=\"gray\")"
      ],
      "metadata": {
        "id": "yvCrs_BnWcPF"
      },
      "execution_count": null,
      "outputs": []
    },
    {
      "cell_type": "markdown",
      "source": [
        "Dividing the dataset in train, validation and test sets"
      ],
      "metadata": {
        "id": "YFpG36dMWqpv"
      }
    },
    {
      "cell_type": "code",
      "source": [
        "x_train, x_test, y_train, y_test = train_test_split(\n",
        "    X, y, train_size=.9, random_state=41)               # 90% of data will be for training\n",
        "\n",
        "x_val, x_test, y_val, y_test = train_test_split(\n",
        "    x_test, y_test, test_size=0.5, random_state=42)     # 10% * 50% = de 5% of data\n",
        "                                                        # will be used for validation\n",
        "                                                        # the remaining 5% will be for testing\n"
      ],
      "metadata": {
        "id": "Dvsv2WTTWu54"
      },
      "execution_count": null,
      "outputs": []
    },
    {
      "cell_type": "markdown",
      "source": [
        "## Pytorch model"
      ],
      "metadata": {
        "id": "Ls_BgeR5XC7I"
      }
    },
    {
      "cell_type": "markdown",
      "source": [
        "This neuronal network is going to serve as a start point to compare our final result"
      ],
      "metadata": {
        "id": "sYISqbZTXIlo"
      }
    },
    {
      "cell_type": "code",
      "source": [
        "# Create ANN Model\n",
        "class Net(nn.Module):\n",
        "    \n",
        "    def __init__(self):\n",
        "        super(Net, self).__init__()\n",
        "        \n",
        "        # Linear function 1: 784 --> 150\n",
        "        self.fc1 = nn.Linear(X.shape[1], 150) \n",
        "        # Non-linearity 1\n",
        "        self.relu1 = nn.ReLU()\n",
        "        \n",
        "        # Linear function 2: 150 --> 150\n",
        "        self.fc2 = nn.Linear(150, 150)\n",
        "        # Non-linearity 2\n",
        "        self.relu2 = nn.ReLU()\n",
        "        \n",
        "        # Linear function 3: 150 --> 150\n",
        "        self.fc3 = nn.Linear(150, 150)\n",
        "        # Non-linearity 3\n",
        "        self.relu3 = nn.ReLU()\n",
        "        \n",
        "        # Linear function 4 (readout): 150 --> 10\n",
        "        self.fc4 = nn.Linear(150, len(categories))\n",
        "    \n",
        "\n",
        "    def forward(self, x):\n",
        "        # Linear function 1\n",
        "        x = self.fc1(x)\n",
        "        # Non-linearity 1\n",
        "        x = self.relu1(x)\n",
        "        \n",
        "        # Linear function 2\n",
        "        x = self.fc2(x)\n",
        "        # Non-linearity 2\n",
        "        x = self.relu2(x)\n",
        "        \n",
        "        # Linear function 2\n",
        "        x = self.fc3(x)\n",
        "        # Non-linearity 2\n",
        "        x = self.relu3(x)\n",
        "        \n",
        "        # Linear function 4 (readout)\n",
        "        x = self.fc4(x)\n",
        "        return x\n"
      ],
      "metadata": {
        "id": "Jgq6MJ3FYn8i"
      },
      "execution_count": null,
      "outputs": []
    },
    {
      "cell_type": "markdown",
      "source": [
        "Create the model, define its loss function and optimizer"
      ],
      "metadata": {
        "id": "38hPB6KXY2mL"
      }
    },
    {
      "cell_type": "code",
      "source": [
        "def createModel(alpha):\n",
        "  ANN = Net()\n",
        "  # Loss Function\n",
        "  lossfun = nn.CrossEntropyLoss()\n",
        "  # Optimizer\n",
        "  optimizer = torch.optim.SGD(ANN.parameters(),lr=alpha)\n",
        "  return ANN,lossfun,optimizer"
      ],
      "metadata": {
        "id": "obWq_sZ6ZCBh"
      },
      "execution_count": null,
      "outputs": []
    },
    {
      "cell_type": "markdown",
      "source": [
        "Function to create and train the model"
      ],
      "metadata": {
        "id": "F8gTHL2wZFVg"
      }
    },
    {
      "cell_type": "code",
      "source": [
        "def create_and_train(alpha=0.01, epochs=500, verbose=True, save_best=True):\n",
        "\n",
        "  valid_loss_min = np.inf  #Vamos a encontrar el menor valor de error de validación. Por eso la inicializmaos como 'infinito'.\n",
        "\n",
        "  # Inicializamos dos listas de accuracies vacías y una lista de pérdidas.\n",
        "  trainAcc = []\n",
        "  testAcc  = []\n",
        "  losses   = []\n",
        "\n",
        "  # Creamos una instancia de una red neuronal, una función de error y un criterio para minimizar.\n",
        "  ANN, lossfun, optimizer = createModel(alpha)\n",
        "\n",
        "  # Iteramos \"epochs\" veces\n",
        "  for epoch in range(epochs):\n",
        "\n",
        "\n",
        "    # ======================================================================== #\n",
        "    #                                ENTRENAMIENTO                             #\n",
        "    # ======================================================================== #\n",
        "\n",
        "\n",
        "    # Activamos el modo entrenamiento.\n",
        "    ANN.train()\n",
        "\n",
        "    # Iteramos sobre cada bache de datos en el dataset, inicializamos listas para guardar las pérdidas y precisiones para cada bache.\n",
        "    batchAcc  = []\n",
        "    batchLoss = []\n",
        "    for X,y in train_loader:\n",
        "\n",
        "      # Hacemos forward propagation y calculamos el error o pérdida.\n",
        "      yHat = ANN(X)\n",
        "      loss = lossfun(yHat,y.squeeze())\n",
        "\n",
        "      # Hacemos backpropagation\n",
        "      optimizer.zero_grad()\n",
        "      loss.backward()\n",
        "      optimizer.step()\n",
        "\n",
        "      # Calculamos la precisión de entrenamiento para este bache solamente.\n",
        "      _, predicted = torch.max(yHat.data, 1)                                                 # Si output > 0.5, la clase es positiva (1). En otro caso, la clase es negativa (0)\n",
        "      batchAcc.append(100*(predicted == y.squeeze()).sum().item()/y.shape[0])\n",
        "      batchLoss.append(loss.item())\n",
        "\n",
        "    # Terminamos de iterar sobre los baches...\n",
        "\n",
        "    # Ahora que iteramos sobre todos los baches, obtenemos su precisión y error medio.\n",
        "    train_acc = np.mean(batchAcc)\n",
        "    train_loss = np.mean(batchLoss)\n",
        "\n",
        "    # Guardamos esta información.\n",
        "    trainAcc.append(train_acc)\n",
        "    losses.append(loss.detach().numpy())\n",
        "\n",
        "\n",
        "    # ======================================================================== #\n",
        "    #                                 VALIDACIÓN                               #\n",
        "    # ======================================================================== #\n",
        "\n",
        "\n",
        "    # Extraemos X, y del dataloader.\n",
        "    X,y = next(iter(cv_loader))\n",
        "\n",
        "    # Activamos el modo de testeo.\n",
        "    ANN.eval()\n",
        "    with torch.no_grad():\n",
        "      output = ANN(X)\n",
        "    \n",
        "    # Calculamos la precisión para este bache.\n",
        "    _, predicted = torch.max(output.data, 1)\n",
        "    test_acc = 100*(predicted == y.squeeze()).sum().item()/y.shape[0]\n",
        "    testAcc.append(test_acc)\n",
        "\n",
        "    # Calculamos el puntaje F1 (Nos dice qué tan bien se desempeña el modelo teniendo en relación a las\n",
        "    # predicciones de falsos positivos y falsos negativos en las qwe incurre).\n",
        "    f1 = F1Score(task=\"multiclass\", num_classes=3)\n",
        "    _, predicted = torch.max(output.data, 1)\n",
        "    f1score = f1(predicted, y.squeeze())\n",
        "\n",
        "\n",
        "    # ============================================ #\n",
        "    #                GUARDAR EL MODELO             #\n",
        "    # ============================================ #\n",
        "\n",
        "    # Vamos a evaluar el modelo entrenado, calculando predicciones con el conjunto de validación.\n",
        "    for data,target in cv_loader:\n",
        "\n",
        "      output = ANN(data)\n",
        "      valid_loss = lossfun(output, target.squeeze())\n",
        "      valid_loss += loss.item()*data.size(0)\n",
        "    valid_loss = valid_loss/len(cv_loader.dataset)\n",
        "\n",
        "\n",
        "    #Guardamos el modelo con el menor error de validación.\n",
        "    if valid_loss <= valid_loss_min:\n",
        "        if verbose:\n",
        "          print('Validation loss decreased ({:.6f} --> {:.6f}).  Saving model ...\\n'.format(\n",
        "        valid_loss_min,\n",
        "        valid_loss))\n",
        "        if save_best:\n",
        "          torch.save(ANN.state_dict(), 'model_voiceEmo.pt')\n",
        "        valid_loss_min = valid_loss\n",
        "\n",
        "\n",
        "\n",
        "    # Prints para saber el estado de entrenamiento del modelo\n",
        "    if verbose:\n",
        "      print(f\"Training[{epoch:03d}/{epochs}] | Loss: {train_loss:.5f}\\tTrain Accuracy:{train_acc:.5f}%\\tValidation Loss:{valid_loss:.5f}\\t    Validation Accuracy:{test_acc:.5f}%\\tF1 Score:{f1score:.5f}\")\n",
        "  \n",
        "\n",
        "  # Retornamos el modelo, las listas donde guardamos las pérdidas y precisiones, la función de pérdida y el criterio.\n",
        "  return ANN, trainAcc, testAcc, losses, valid_loss_min, lossfun, optimizer\n",
        "    \n",
        "\n",
        "    "
      ],
      "metadata": {
        "id": "aHHXGa1lZOLI"
      },
      "execution_count": null,
      "outputs": []
    },
    {
      "cell_type": "markdown",
      "source": [
        "Create the data loaders"
      ],
      "metadata": {
        "id": "QlbMz8p_aNJk"
      }
    },
    {
      "cell_type": "code",
      "source": [
        "train_dataDataset = TensorDataset(torch.Tensor(x_train), torch.Tensor(y_train).type(torch.LongTensor))\n",
        "cv_dataDataset  = TensorDataset(torch.Tensor(x_val), torch.Tensor(y_val).type(torch.LongTensor))\n",
        "test_dataDataset = TensorDataset(torch.Tensor(x_test), torch.Tensor(y_test).type(torch.LongTensor))\n",
        "\n",
        "cv_loader = DataLoader(cv_dataDataset,batch_size=cv_dataDataset.tensors[0].shape[0])\n",
        "test_loader = DataLoader(test_dataDataset, batch_size=test_dataDataset.tensors[0].shape[0])"
      ],
      "metadata": {
        "id": "gcFKhXxPaRhP"
      },
      "execution_count": null,
      "outputs": []
    },
    {
      "cell_type": "markdown",
      "source": [
        "Training the model"
      ],
      "metadata": {
        "id": "Jsx5b5DjaUOb"
      }
    },
    {
      "cell_type": "code",
      "source": [
        "# train_model(model, optimizer, criterion, train_data, val_data, num_epochs=100)\n",
        "batch_size = 1024\n",
        "epochs = 1\n",
        "alpha = 0.01\n",
        "\n",
        "train_loader = DataLoader(train_dataDataset, batch_size=batch_size, shuffle=True, drop_last=True)\n",
        "ANN, trainAcc, testAcc, losses, valid_loss_min,  lossfun, optimizer = create_and_train(alpha=alpha, epochs=epochs, verbose=True)"
      ],
      "metadata": {
        "colab": {
          "base_uri": "https://localhost:8080/"
        },
        "id": "AjuaZBRoaVrq",
        "outputId": "5ffd760b-4f6c-4537-d204-cae0f0a7a7f4"
      },
      "execution_count": null,
      "outputs": [
        {
          "output_type": "stream",
          "name": "stdout",
          "text": [
            "Validation loss decreased (inf --> 0.146764).  Saving model ...\n",
            "\n",
            "Training[000/1] | Loss: 0.38953\tTrain Accuracy:88.68652%\tValidation Loss:0.14676\t    Validation Accuracy:94.80368%\tF1 Score:0.94804\n"
          ]
        }
      ]
    },
    {
      "cell_type": "markdown",
      "source": [
        "Make predictions of a certain image"
      ],
      "metadata": {
        "id": "3XYXShCCaaQn"
      }
    },
    {
      "cell_type": "code",
      "source": [
        "def predict(random=True, idx=0):\n",
        "  if random:\n",
        "    idx = randint(1, X.shape[0])\n",
        "\n",
        "  x = torch.Tensor(X[idx, :])\n",
        "\n",
        "  ANN.eval()\n",
        "  with torch.no_grad():\n",
        "    output = ANN(x)\n",
        "    S = nn.Softmax(dim=0)\n",
        "    print(S(output.data))\n",
        "  _, pred = torch.max(output.data, 0) \n",
        "  label = y[idx]\n",
        "\n",
        "  show_image(X, idx)\n",
        "  print(\"prediction: \", pred.item())\n",
        "  print(\"label: \", int(label.item()))\n",
        "\n",
        "  ANN.train()"
      ],
      "metadata": {
        "id": "73bIuf4EadF5"
      },
      "execution_count": null,
      "outputs": []
    },
    {
      "cell_type": "code",
      "source": [
        "predict()"
      ],
      "metadata": {
        "colab": {
          "base_uri": "https://localhost:8080/",
          "height": 491
        },
        "id": "DTTzp4_9afqd",
        "outputId": "61e57553-f534-46a6-ba75-5b7e578fd018"
      },
      "execution_count": null,
      "outputs": [
        {
          "output_type": "stream",
          "name": "stdout",
          "text": [
            "tensor([0.0451, 0.9549])\n",
            "prediction:  1\n",
            "label:  1\n"
          ]
        },
        {
          "output_type": "display_data",
          "data": {
            "text/plain": [
              "<Figure size 480x480 with 1 Axes>"
            ],
            "image/png": "[encoded data removed]"
          },
          "metadata": {}
        }
      ]
    },
    {
      "cell_type": "markdown",
      "source": [
        "Getting the confusion matrix"
      ],
      "metadata": {
        "id": "H7Nr0c63akQN"
      }
    },
    {
      "cell_type": "code",
      "source": [
        "class MyDataset():\n",
        " \n",
        "  def __init__(self,X,y):\n",
        "    self.X = torch.tensor(X, dtype=torch.float32)\n",
        "    self.y = torch.tensor(y, dtype=torch.float32)\n",
        " \n",
        "  def __len__(self):\n",
        "    return len(self.y)\n",
        "   \n",
        "  def __getitem__(self,idx):\n",
        "    return self.X[idx], self.y[idx]"
      ],
      "metadata": {
        "id": "0SIm5Ibaal_Z"
      },
      "execution_count": null,
      "outputs": []
    },
    {
      "cell_type": "code",
      "source": [
        "def conf_matrix(data:np.ndarray, labels:np.ndarray):\n",
        "  dataset = MyDataset(data, labels)\n",
        "\n",
        "  with torch.no_grad():\n",
        "      output = ANN(dataset.X)\n",
        "  _, pred = torch.max(output.data, 1) \n",
        "\n",
        "  cm = confusion_matrix(dataset.y, pred)\n",
        "  disp = ConfusionMatrixDisplay(confusion_matrix=cm, display_labels=str_categories)\n",
        "  disp.plot()"
      ],
      "metadata": {
        "id": "YsEu5BxpameZ"
      },
      "execution_count": null,
      "outputs": []
    },
    {
      "cell_type": "code",
      "source": [
        "conf_matrix(X, y)"
      ],
      "metadata": {
        "colab": {
          "base_uri": "https://localhost:8080/",
          "height": 449
        },
        "id": "hc0d97ZBaqWT",
        "outputId": "28e6b041-d6a4-4369-a899-2e7bbfd1b9eb"
      },
      "execution_count": null,
      "outputs": [
        {
          "output_type": "display_data",
          "data": {
            "text/plain": [
              "<Figure size 640x480 with 2 Axes>"
            ],
            "image/png": "[encoded data removed]"
          },
          "metadata": {}
        }
      ]
    },
    {
      "cell_type": "markdown",
      "source": [
        "Here, the accuracy for only two classes is very high, also, the number of wrong classified cookies were 4.500 and the number of wrong boomerangs is almost 10.000"
      ],
      "metadata": {
        "id": "06R7A9JPatC-"
      }
    },
    {
      "cell_type": "markdown",
      "metadata": {
        "id": "juAOeBi5cDj1"
      },
      "source": [
        "# Convolutional model \n",
        "\n",
        "## Data Preparation"
      ]
    },
    {
      "cell_type": "markdown",
      "metadata": {
        "id": "oaZkfDvFmJ7T"
      },
      "source": [
        "Load data and store the resulting `np.ndarray`s in a list"
      ]
    },
    {
      "cell_type": "code",
      "execution_count": null,
      "metadata": {
        "id": "rPLYRFwY4h56"
      },
      "outputs": [],
      "source": [
        "clocks = np.load(\"clock.npy\")\n",
        "boomerangs = np.load(\"boomerang.npy\")\n",
        "airplanes = np.load('airplane.npy')\n",
        "snails = np.load('snail.npy')\n",
        "parachutes = np.load('parachute.npy')\n",
        "trees = np.load('tree.npy')\n",
        "fish = np.load('fish.npy')\n",
        "diamonds = np.load('diamond.npy')\n",
        "helicopters = np.load('helicopter.npy')\n",
        "t_shirts = np.load(\"t-shirt.npy\")\n",
        "\n",
        "categories = [clocks, boomerangs, airplanes, snails, parachutes, trees, fish, diamonds, helicopters, t_shirts]\n",
        "str_categories = [\"cloks\", \"boomerangs\", \"airplanes\", 'snails', 'parachutes', 'trees', \"fishes\", \"diamonds\", \"helicopters\", \"t-shirts\"]\n",
        "categories_len = [x.shape[0] for x in categories]\n",
        "\n",
        "num_labels = len(categories)"
      ]
    },
    {
      "cell_type": "markdown",
      "metadata": {
        "id": "OK8oUnUgmZDd"
      },
      "source": [
        "Combining all categories in a single dataset. Also creating the labels for the data.\n",
        "\n",
        "Here, we delete the previous classes in order to clear and reduce the RAM utilization"
      ]
    },
    {
      "cell_type": "code",
      "source": [
        "X = np.vstack(categories)\n",
        "y = np.zeros((1, 1))\n",
        "\n",
        "for i, l in enumerate(categories_len):\n",
        "  y = np.vstack((y, i*np.ones((l, 1))))\n",
        "\n",
        "for i in range(len(categories)):\n",
        "  del[categories[0]]\n",
        "del categories\n",
        "\n",
        "y = y[1:, :]"
      ],
      "metadata": {
        "id": "zmoxg2VFvCit"
      },
      "execution_count": null,
      "outputs": []
    },
    {
      "cell_type": "markdown",
      "metadata": {
        "id": "qQ5qsOlSnVjn"
      },
      "source": [
        "Function to visualize an image given an index in the dataset"
      ]
    },
    {
      "cell_type": "code",
      "execution_count": null,
      "metadata": {
        "id": "it793o4TjoX3"
      },
      "outputs": [],
      "source": [
        "def show_image(data:np.ndarray, index:int) -> None:\n",
        "  img = data[index, :]\n",
        "  img = img.reshape(28, 28)\n",
        "  plt.matshow(img, cmap=\"gray\")"
      ]
    },
    {
      "cell_type": "markdown",
      "metadata": {
        "id": "KQGtHieiVqzF"
      },
      "source": [
        "Split the dataset in Training, Validation and Testing sets.\n",
        "\n",
        "As before, we delete X and Y matrices because we don't use it in the rest of the model"
      ]
    },
    {
      "cell_type": "code",
      "execution_count": null,
      "metadata": {
        "id": "fSX7iZOrVp7y"
      },
      "outputs": [],
      "source": [
        "x_train, x_test, y_train, y_test = train_test_split(\n",
        "    X, y, train_size=.9, random_state=41)               # 90% of data will be for training\n",
        "\n",
        "x_val, x_test, y_val, y_test = train_test_split(\n",
        "    x_test, y_test, test_size=0.5, random_state=42)     # 10% * 50% = de 5% of data\n",
        "                                                        # will be used for validation\n",
        "                                                        # the remaining 5% will be for testing\n",
        "del(X)\n",
        "del(y)"
      ]
    },
    {
      "cell_type": "code",
      "execution_count": null,
      "metadata": {
        "id": "ki7orDx7Ipl5"
      },
      "outputs": [],
      "source": [
        "x_train = x_train.reshape(x_train.shape[0], 1, 28, 28)\n",
        "x_val = x_val.reshape(x_val.shape[0], 1, 28, 28)\n",
        "x_test = x_test.reshape(x_test.shape[0], 1, 28, 28)"
      ]
    },
    {
      "cell_type": "markdown",
      "metadata": {
        "id": "6rwSWYabTYAE"
      },
      "source": [
        "## Pytorch model "
      ]
    },
    {
      "cell_type": "markdown",
      "metadata": {
        "id": "TDzcnKU9T18N"
      },
      "source": [
        "This time we will be using a convolutional network model from: https://machinelearningmastery.com/building-a-convolutional-neural-network-in-pytorch/\n",
        "\n",
        "This particular model will have some changes since the problem to be solved is different"
      ]
    },
    {
      "cell_type": "code",
      "execution_count": null,
      "metadata": {
        "id": "UJxc6MQ3TUtv"
      },
      "outputs": [],
      "source": [
        "# Create CNN Model\n",
        "class CIFAR10Model(nn.Module):\n",
        "    def __init__(self):\n",
        "        super().__init__()\n",
        "        self.conv1 = nn.Conv2d(1, 16, kernel_size=(3,3), stride=1, padding=1)   # 1 input channel since the image is in black and white format.\n",
        "        self.act1 = nn.ReLU()\n",
        "        self.drop1 = nn.Dropout(0.3)\n",
        " \n",
        "        self.conv2 = nn.Conv2d(16, 16, kernel_size=(3,3), stride=1, padding=1)\n",
        "        self.act2 = nn.ReLU()\n",
        "        self.pool2 = nn.MaxPool2d(kernel_size=(2, 2))\n",
        " \n",
        "        self.flat = nn.Flatten()\n",
        " \n",
        "        self.fc3 = nn.Linear(3136, 512)\n",
        "        self.act3 = nn.ReLU()\n",
        "        self.drop3 = nn.Dropout(0.5)\n",
        " \n",
        "        self.fc4 = nn.Linear(512, num_labels)\n",
        " \n",
        "    def forward(self, x):\n",
        "        # input 1x28x28, output 16x28x28\n",
        "        x = self.act1(self.conv1(x))\n",
        "        x = self.drop1(x)\n",
        "        # input 16x28x28, output 16x28x28\n",
        "        x = self.act2(self.conv2(x))\n",
        "        # input 16x28x28, output 16x14x14\n",
        "        x = self.pool2(x)\n",
        "        # input 16x14x14, output 3136\n",
        "        x = self.flat(x)\n",
        "        # input 3136, output 512\n",
        "        x = self.act3(self.fc3(x))\n",
        "        x = self.drop3(x)\n",
        "        # input 512, output 10\n",
        "        x = self.fc4(x)\n",
        "        return x"
      ]
    },
    {
      "cell_type": "markdown",
      "metadata": {
        "id": "fltxxWvjaUzH"
      },
      "source": [
        "Function to create a model, loss function and optimizer"
      ]
    },
    {
      "cell_type": "code",
      "execution_count": null,
      "metadata": {
        "id": "h2hhmvAPIsg7"
      },
      "outputs": [],
      "source": [
        "def createModel(alpha):\n",
        "  ANN = CIFAR10Model()\n",
        "  # Loss Function\n",
        "  lossfun = nn.CrossEntropyLoss()\n",
        "  # Optimizer\n",
        "  optimizer = torch.optim.SGD(ANN.parameters(),lr=alpha)\n",
        "  return ANN,lossfun,optimizer"
      ]
    },
    {
      "cell_type": "markdown",
      "metadata": {
        "id": "QRsUdlTJ96t7"
      },
      "source": [
        "Function to create and train a model"
      ]
    },
    {
      "cell_type": "code",
      "execution_count": null,
      "metadata": {
        "id": "UgjkZ80G96FI"
      },
      "outputs": [],
      "source": [
        "def create_and_train(alpha=0.01, epochs=500, verbose=True, save_best=True):\n",
        "\n",
        "  valid_loss_min = np.inf  #Vamos a encontrar el menor valor de error de validación. Por eso la inicializmaos como 'infinito'.\n",
        "\n",
        "  # Inicializamos dos listas de accuracies vacías y una lista de pérdidas.\n",
        "  trainAcc = []\n",
        "  testAcc  = []\n",
        "  losses   = []\n",
        "\n",
        "  # Creamos una instancia de una red neuronal, una función de error y un criterio para minimizar.\n",
        "  CNN, lossfun, optimizer = createModel(alpha)\n",
        "  CNN.to(device)\n",
        "\n",
        "  # Inicializamos una clase para calcular el f1 score\n",
        "  f1 = F1Score(task=\"multiclass\", num_classes=num_labels).to(device)\n",
        "\n",
        "  # Iteramos \"epochs\" veces\n",
        "  for epoch in range(epochs):\n",
        "\n",
        "\n",
        "    # ======================================================================== #\n",
        "    #                                ENTRENAMIENTO                             #\n",
        "    # ======================================================================== #\n",
        "\n",
        "\n",
        "    # Activamos el modo entrenamiento.\n",
        "    CNN.train()\n",
        "\n",
        "    # Iteramos sobre cada bache de datos en el dataset, inicializamos listas para guardar las pérdidas y precisiones para cada bache.\n",
        "    batchAcc  = []\n",
        "    batchLoss = []\n",
        "    for X,y in train_loader:\n",
        "\n",
        "      # Pasamos los tensores a la GPU\n",
        "      X = X.to(device)\n",
        "      y = y.to(device)\n",
        "\n",
        "      # Hacemos forward propagation y calculamos el error o pérdida.\n",
        "      yHat = CNN(X)\n",
        "      loss = lossfun(yHat,y.squeeze())\n",
        "\n",
        "      # Hacemos backpropagation\n",
        "      optimizer.zero_grad()\n",
        "      loss.backward()\n",
        "      optimizer.step()\n",
        "\n",
        "      # Calculamos la precisión de entrenamiento para este bache solamente.\n",
        "      _, predicted = torch.max(yHat.data, 1)                                                 # Si output > 0.5, la clase es positiva (1). En otro caso, la clase es negativa (0)\n",
        "      batchAcc.append(100*(predicted == y.squeeze()).sum().detach().item()/y.shape[0])\n",
        "      batchLoss.append(loss.detach().item())\n",
        "      # torch.cuda.empty_cache()\n",
        "\n",
        "    # Terminamos de iterar sobre los baches...\n",
        "\n",
        "    # Ahora que iteramos sobre todos los baches, obtenemos su precisión y error medio.\n",
        "    train_acc = np.mean(batchAcc)\n",
        "    train_loss = np.mean(batchLoss)\n",
        "\n",
        "    # Guardamos esta información.\n",
        "    trainAcc.append(train_acc)\n",
        "    losses.append(train_loss)\n",
        "\n",
        "\n",
        "    # ======================================================================== #\n",
        "    #                                 VALIDACIÓN                               #\n",
        "    # ======================================================================== #\n",
        "\n",
        "    # Activamos el modo de evaluación de la red\n",
        "    CNN.eval()\n",
        "\n",
        "    # Vamos a evaluar el modelo entrenado, calculando predicciones con el conjunto de validación.\n",
        "    data, target = next(iter(cv_loader))\n",
        "\n",
        "    # Pasamos los tensores a la GPU\n",
        "    data = data.to(device)\n",
        "    target = target.to(device)\n",
        "\n",
        "    # Activamos el modo de testeo.\n",
        "    with torch.no_grad():\n",
        "      output = CNN(data)\n",
        "    \n",
        "    # Calculamos la precisión para este bache.\n",
        "    _, predicted = torch.max(output.data, 1)\n",
        "    test_acc = 100*(predicted == target.squeeze()).sum().detach().item()/target.shape[0]\n",
        "    testAcc.append(test_acc)\n",
        "\n",
        "    # Calculamos el puntaje F1 (Nos dice qué tan bien se desempeña el modelo teniendo en relación a las\n",
        "    # predicciones de falsos positivos y falsos negativos en las qwe incurre).\n",
        "    _, predicted = torch.max(output.data, 1)\n",
        "    predicted = predicted.to(device)\n",
        "    f1score = f1(predicted, target.squeeze())\n",
        "\n",
        "    # Calculamos el error de validación\n",
        "    valid_loss = lossfun(output, target.squeeze())\n",
        "    valid_loss += loss.item()*data.size(0)\n",
        "    valid_loss = valid_loss/len(cv_loader.dataset)\n",
        "\n",
        "    # ============================================ #\n",
        "    #                GUARDAR EL MODELO             #\n",
        "    # ============================================ #\n",
        "\n",
        "    #Guardamos el modelo con el menor error de validación.\n",
        "    if valid_loss <= valid_loss_min:\n",
        "        if verbose:\n",
        "          print('Validation loss decreased ({:.6f} --> {:.6f}).  Saving model ...'.format(valid_loss_min,valid_loss))\n",
        "        if save_best:\n",
        "          torch.save(CNN.state_dict(), 'Model.pt')\n",
        "        valid_loss_min = valid_loss\n",
        "\n",
        "    # Prints para saber el estado de entrenamiento del modelo\n",
        "    if verbose:\n",
        "      print(f\"Training[{epoch:03d}/{epochs:03d}] | Loss: {train_loss:.5f}\\tTrain Accuracy:{train_acc:.5f}%\\tValidation Loss:{valid_loss:.5f}\\t    Validation Accuracy:{test_acc:.5f}%\\tF1 Score:{f1score:.5f}\\n\")\n",
        "\n",
        "    torch.cuda.empty_cache()\n",
        "\n",
        "  # torch.cuda.empty_cache()\n",
        "  # Retornamos el modelo, las listas donde guardamos las pérdidas y precisiones, la función de pérdida y el criterio.\n",
        "  return CNN, trainAcc, testAcc, losses, valid_loss_min\n",
        "    \n",
        "\n",
        "    "
      ]
    },
    {
      "cell_type": "markdown",
      "metadata": {
        "id": "xQC0aLr2_69g"
      },
      "source": [
        "Create the DataLoaders"
      ]
    },
    {
      "cell_type": "code",
      "execution_count": null,
      "metadata": {
        "id": "BP0f_BqH_53e"
      },
      "outputs": [],
      "source": [
        "train_dataDataset = TensorDataset(torch.Tensor(x_train), torch.Tensor(y_train).type(torch.LongTensor))\n",
        "cv_dataDataset  = TensorDataset(torch.Tensor(x_val), torch.Tensor(y_val).type(torch.LongTensor))\n",
        "test_dataDataset = TensorDataset(torch.Tensor(x_test), torch.Tensor(y_test).type(torch.LongTensor))\n",
        "\n",
        "cv_loader = DataLoader(cv_dataDataset,batch_size=cv_dataDataset.tensors[0].shape[0])\n",
        "test_loader = DataLoader(test_dataDataset, batch_size=test_dataDataset.tensors[0].shape[0])"
      ]
    },
    {
      "cell_type": "markdown",
      "metadata": {
        "id": "V4tGGAYSAI6U"
      },
      "source": [
        "Training the model"
      ]
    },
    {
      "cell_type": "code",
      "execution_count": null,
      "metadata": {
        "id": "ALsGi8PsADRp",
        "colab": {
          "base_uri": "https://localhost:8080/"
        },
        "outputId": "c7989133-7af2-479b-88df-0a6521f03669"
      },
      "outputs": [
        {
          "output_type": "stream",
          "name": "stdout",
          "text": [
            "Validation loss decreased (inf --> 0.693222).  Saving model ...\n",
            "Training[000/020] | Loss: 1.38924\tTrain Accuracy:53.03992%\tValidation Loss:0.69322\t    Validation Accuracy:81.48942%\tF1 Score:0.81489\n",
            "\n",
            "Validation loss decreased (0.693222 --> 0.589111).  Saving model ...\n",
            "Training[001/020] | Loss: 0.57972\tTrain Accuracy:81.99816%\tValidation Loss:0.58911\t    Validation Accuracy:81.10154%\tF1 Score:0.81102\n",
            "\n",
            "Validation loss decreased (0.589111 --> 0.415501).  Saving model ...\n",
            "Training[002/020] | Loss: 0.47342\tTrain Accuracy:85.49691%\tValidation Loss:0.41550\t    Validation Accuracy:89.91499%\tF1 Score:0.89915\n",
            "\n",
            "Validation loss decreased (0.415501 --> 0.369077).  Saving model ...\n",
            "Training[003/020] | Loss: 0.40570\tTrain Accuracy:87.69142%\tValidation Loss:0.36908\t    Validation Accuracy:90.60326%\tF1 Score:0.90603\n",
            "\n",
            "Validation loss decreased (0.369077 --> 0.363793).  Saving model ...\n",
            "Training[004/020] | Loss: 0.36380\tTrain Accuracy:89.00662%\tValidation Loss:0.36379\t    Validation Accuracy:91.95357%\tF1 Score:0.91954\n",
            "\n",
            "Validation loss decreased (0.363793 --> 0.293663).  Saving model ...\n",
            "Training[005/020] | Loss: 0.32588\tTrain Accuracy:90.19341%\tValidation Loss:0.29366\t    Validation Accuracy:92.75705%\tF1 Score:0.92757\n",
            "\n",
            "Validation loss decreased (0.293663 --> 0.293461).  Saving model ...\n",
            "Training[006/020] | Loss: 0.29466\tTrain Accuracy:91.15676%\tValidation Loss:0.29346\t    Validation Accuracy:93.31700%\tF1 Score:0.93317\n",
            "\n",
            "Validation loss decreased (0.293461 --> 0.282681).  Saving model ...\n",
            "Training[007/020] | Loss: 0.27412\tTrain Accuracy:91.78495%\tValidation Loss:0.28268\t    Validation Accuracy:93.65677%\tF1 Score:0.93657\n",
            "\n",
            "Validation loss decreased (0.282681 --> 0.256108).  Saving model ...\n",
            "Training[008/020] | Loss: 0.25837\tTrain Accuracy:92.26950%\tValidation Loss:0.25611\t    Validation Accuracy:93.93966%\tF1 Score:0.93940\n",
            "\n",
            "Training[009/020] | Loss: 0.24699\tTrain Accuracy:92.62136%\tValidation Loss:0.25968\t    Validation Accuracy:94.00382%\tF1 Score:0.94004\n",
            "\n",
            "Validation loss decreased (0.256108 --> 0.251896).  Saving model ...\n",
            "Training[010/020] | Loss: 0.23837\tTrain Accuracy:92.85706%\tValidation Loss:0.25190\t    Validation Accuracy:94.00820%\tF1 Score:0.94008\n",
            "\n",
            "Validation loss decreased (0.251896 --> 0.198156).  Saving model ...\n",
            "Training[011/020] | Loss: 0.23206\tTrain Accuracy:93.03526%\tValidation Loss:0.19816\t    Validation Accuracy:94.31442%\tF1 Score:0.94314\n",
            "\n",
            "Training[012/020] | Loss: 0.22647\tTrain Accuracy:93.20770%\tValidation Loss:0.20544\t    Validation Accuracy:94.51565%\tF1 Score:0.94516\n",
            "\n",
            "Training[013/020] | Loss: 0.22196\tTrain Accuracy:93.34624%\tValidation Loss:0.23159\t    Validation Accuracy:94.59731%\tF1 Score:0.94597\n",
            "\n",
            "Training[014/020] | Loss: 0.21726\tTrain Accuracy:93.47844%\tValidation Loss:0.24361\t    Validation Accuracy:94.73147%\tF1 Score:0.94731\n",
            "\n",
            "Training[015/020] | Loss: 0.21328\tTrain Accuracy:93.59411%\tValidation Loss:0.21003\t    Validation Accuracy:94.76063%\tF1 Score:0.94761\n",
            "\n",
            "Validation loss decreased (0.198156 --> 0.198015).  Saving model ...\n",
            "Training[016/020] | Loss: 0.21039\tTrain Accuracy:93.69282%\tValidation Loss:0.19801\t    Validation Accuracy:94.82334%\tF1 Score:0.94823\n",
            "\n",
            "Validation loss decreased (0.198015 --> 0.189731).  Saving model ...\n",
            "Training[017/020] | Loss: 0.20760\tTrain Accuracy:93.78455%\tValidation Loss:0.18973\t    Validation Accuracy:94.86708%\tF1 Score:0.94867\n",
            "\n",
            "Training[018/020] | Loss: 0.20462\tTrain Accuracy:93.86007%\tValidation Loss:0.23781\t    Validation Accuracy:94.60752%\tF1 Score:0.94608\n",
            "\n",
            "Training[019/020] | Loss: 0.20158\tTrain Accuracy:93.95083%\tValidation Loss:0.20719\t    Validation Accuracy:94.90791%\tF1 Score:0.94908\n",
            "\n"
          ]
        }
      ],
      "source": [
        "# train_model(model, optimizer, criterion, train_data, val_data, num_epochs=100)\n",
        "batch_size = 2048\n",
        "epochs = 20\n",
        "alpha = 0.04\n",
        "\n",
        "train_loader = DataLoader(train_dataDataset, batch_size=batch_size, shuffle=True, drop_last=True)\n",
        "CNN, trainAcc, testAcc, losses, valid_loss_min = create_and_train(alpha=alpha, epochs=epochs, verbose=True)"
      ]
    },
    {
      "cell_type": "code",
      "source": [
        "mem_params = sum([param.nelement()*param.element_size() for param in CNN.parameters()])\n",
        "mem_bufs = sum([buf.nelement()*buf.element_size() for buf in CNN.buffers()])\n",
        "mem = mem_params + mem_bufs # in bytes\n",
        "mem"
      ],
      "metadata": {
        "colab": {
          "base_uri": "https://localhost:8080/"
        },
        "id": "RCxeXCydn28R",
        "outputId": "f71e7e96-fdb9-47c9-feab-f35416ec95df"
      },
      "execution_count": null,
      "outputs": [
        {
          "output_type": "execute_result",
          "data": {
            "text/plain": [
              "6455016"
            ]
          },
          "metadata": {},
          "execution_count": 20
        }
      ]
    },
    {
      "cell_type": "code",
      "source": [
        "import sys\n",
        "def sizeof_fmt(num, suffix='B'):\n",
        "    ''' by Fred Cirera,  https://stackoverflow.com/a/1094933/1870254, modified'''\n",
        "    for unit in ['','Ki','Mi','Gi','Ti','Pi','Ei','Zi']:\n",
        "        if abs(num) < 1024.0:\n",
        "            return \"%3.1f %s%s\" % (num, unit, suffix)\n",
        "        num /= 1024.0\n",
        "    return \"%.1f %s%s\" % (num, 'Yi', suffix)\n",
        "\n",
        "for name, size in sorted(((name, sys.getsizeof(value)) for name, value in list(\n",
        "                          locals().items())), key= lambda x: -x[1])[:10]:\n",
        "    print(\"{:>30}: {:>8}\".format(name, sizeof_fmt(size)))"
      ],
      "metadata": {
        "colab": {
          "base_uri": "https://localhost:8080/"
        },
        "id": "u6C7eFvPulqt",
        "outputId": "cc5cf481-d754-45d5-f68a-a428e19b2d3e"
      },
      "execution_count": null,
      "outputs": [
        {
          "output_type": "stream",
          "name": "stdout",
          "text": [
            "                   helicopters: 119.6 MiB\n",
            "                     airplanes: 113.4 MiB\n",
            "                         trees: 108.2 MiB\n",
            "                    boomerangs: 106.7 MiB\n",
            "                          fish: 100.3 MiB\n",
            "                        snails: 100.0 MiB\n",
            "                      diamonds: 98.4 MiB\n",
            "                    parachutes: 95.2 MiB\n",
            "                      t_shirts: 93.6 MiB\n",
            "                        clocks: 90.1 MiB\n"
          ]
        }
      ]
    },
    {
      "cell_type": "markdown",
      "metadata": {
        "id": "F4nDBI5YEeoM"
      },
      "source": [
        "Function to make predictions for a certain (or random image)"
      ]
    },
    {
      "cell_type": "code",
      "execution_count": null,
      "metadata": {
        "id": "60klCwukEeAC"
      },
      "outputs": [],
      "source": [
        "def predict(data, labels, random=True, idx=0):\n",
        "  if random:\n",
        "    idx = randint(0, data.shape[0])\n",
        "\n",
        "  x = torch.Tensor(data[idx, :])\n",
        "  x = x.to(device)\n",
        "\n",
        "  CNN.eval()\n",
        "  with torch.no_grad():\n",
        "    output = CNN(x)\n",
        "    S = nn.Softmax(dim=0)\n",
        "    print(S(output.data))\n",
        "  _, pred = torch.max(output.data, 0) \n",
        "  label = labels[idx]\n",
        "\n",
        "  show_image(data, idx)\n",
        "  print(\"prediction: \", pred.item())\n",
        "  print(\"label: \", int(label.item()))\n",
        "\n",
        "  CNN.train()"
      ]
    },
    {
      "cell_type": "code",
      "execution_count": null,
      "metadata": {
        "id": "UHXtLXDCFhtR"
      },
      "outputs": [],
      "source": [
        "#predict(np_image1, np.array([1]), random=False)"
      ]
    },
    {
      "cell_type": "code",
      "execution_count": null,
      "metadata": {
        "id": "ncA2POpbHIxg"
      },
      "outputs": [],
      "source": [
        "#predict(np_image2, np.array([1]), random=False)"
      ]
    },
    {
      "cell_type": "markdown",
      "metadata": {
        "id": "LasWFe3DIfNj"
      },
      "source": [
        "Auxiliary Class"
      ]
    },
    {
      "cell_type": "code",
      "execution_count": null,
      "metadata": {
        "id": "1XK2Jt7WIiwp"
      },
      "outputs": [],
      "source": [
        "class MyDataset():\n",
        " \n",
        "  def __init__(self,X,y):\n",
        "    self.X = torch.tensor(X, dtype=torch.float32)\n",
        "    self.y = torch.tensor(y, dtype=torch.float32)\n",
        " \n",
        "  def __len__(self):\n",
        "    return len(self.y)\n",
        "   \n",
        "  def __getitem__(self,idx):\n",
        "    return self.X[idx], self.y[idx]"
      ]
    },
    {
      "cell_type": "markdown",
      "metadata": {
        "id": "V8wR9-8xIVBl"
      },
      "source": [
        "Confusion Matrix"
      ]
    },
    {
      "cell_type": "code",
      "execution_count": null,
      "metadata": {
        "id": "z9tHM577IUb6"
      },
      "outputs": [],
      "source": [
        "def conf_matrix(data:np.ndarray, labels:np.ndarray):\n",
        "  dataset = MyDataset(data, labels)\n",
        "\n",
        "  with torch.no_grad():\n",
        "      data = dataset.X.to(device)\n",
        "      output = CNN(data)\n",
        "  _, pred = torch.max(output.data, 1) \n",
        "\n",
        "  pred = pred.cpu()\n",
        "  cm = confusion_matrix(dataset.y, pred)\n",
        "  disp = ConfusionMatrixDisplay(confusion_matrix=cm, display_labels=str_categories)\n",
        "  disp.plot()"
      ]
    },
    {
      "cell_type": "code",
      "execution_count": null,
      "metadata": {
        "id": "tbaUfuI0KcdM",
        "colab": {
          "base_uri": "https://localhost:8080/",
          "height": 449
        },
        "outputId": "a62f159c-1494-4a29-ea68-0ae0a6abd0bc"
      },
      "outputs": [
        {
          "output_type": "display_data",
          "data": {
            "text/plain": [
              "<Figure size 640x480 with 2 Axes>"
            ],
            "image/png": "[encoded data removed]"
          },
          "metadata": {}
        }
      ],
      "source": [
        "conf_matrix(x_test, y_test)"
      ]
    },
    {
      "cell_type": "markdown",
      "source": [
        "Here, we achieved an accuracy similar to the one of the preeliminary model. However, it is a better result since we are working with 10 clases instead of two.\n",
        "\n",
        "Also, looking at the confusion matrix, the number of errors made by the model is very low taking into account the number of elements in each class.\n",
        "\n",
        "When working with images and classifying multiple clases, it is better to work with convolutional network.\n",
        "\n",
        "Finally, when we work with big amount of data, we must be careful with memory utilization so we need to be deleting the information that we won't use anymore."
      ],
      "metadata": {
        "id": "pVWmTnqxeNMg"
      }
    }
  ],
  "metadata": {
    "accelerator": "GPU",
    "colab": {
      "provenance": []
    },
    "gpuClass": "standard",
    "kernelspec": {
      "display_name": "Python 3",
      "name": "python3"
    },
    "language_info": {
      "name": "python"
    }
  },
  "nbformat": 4,
  "nbformat_minor": 0
}